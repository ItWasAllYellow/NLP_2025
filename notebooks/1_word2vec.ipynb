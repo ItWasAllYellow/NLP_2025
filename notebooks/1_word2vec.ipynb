{
  "cells": [
    {
      "cell_type": "markdown",
      "metadata": {
        "id": "view-in-github",
        "colab_type": "text"
      },
      "source": [
        "<a href=\"https://colab.research.google.com/github/ItWasAllYellow/NLP_2025/blob/main/notebooks/1_word2vec.ipynb\" target=\"_parent\"><img src=\"https://colab.research.google.com/assets/colab-badge.svg\" alt=\"Open In Colab\"/></a>"
      ]
    },
    {
      "cell_type": "markdown",
      "metadata": {
        "id": "6FZ2ZSwcyhDQ"
      },
      "source": [
        "# Word2Vec Implementation from Scratch\n",
        "\n",
        "This notebook demonstrates how to implement the Word2Vec algorithm from scratch using PyTorch. We'll use the first Harry Potter book as our corpus to train word embeddings.\n"
      ]
    },
    {
      "cell_type": "markdown",
      "metadata": {
        "id": "pDRbSHQIyhDS"
      },
      "source": [
        "## 1. Setting Up the Environment\n",
        "\n",
        "First, we need to import the necessary libraries:\n",
        "- `torch` and `torch.nn` for tensor operations and neural network functionality\n",
        "- `string` for string manipulations (removing punctuation)\n"
      ]
    },
    {
      "cell_type": "code",
      "execution_count": 1,
      "metadata": {
        "id": "L9BA5Lg2QRMr"
      },
      "outputs": [],
      "source": [
        "import torch\n",
        "import torch.nn as nn\n",
        "import string\n"
      ]
    },
    {
      "cell_type": "markdown",
      "metadata": {
        "id": "EA7ERi6CyhDS"
      },
      "source": [
        "## 2. Getting the Text Data\n",
        "\n",
        "We'll download the first Harry Potter book to use as our corpus."
      ]
    },
    {
      "cell_type": "code",
      "execution_count": 2,
      "metadata": {
        "colab": {
          "base_uri": "https://localhost:8080/"
        },
        "id": "tEaaz_s0QRMs",
        "outputId": "96ec4e72-5d28-496c-bfaa-97ed0d3b4407"
      },
      "outputs": [
        {
          "output_type": "stream",
          "name": "stdout",
          "text": [
            "--2025-03-18 05:25:14--  https://raw.githubusercontent.com/amephraim/nlp/master/texts/J.%20K.%20Rowling%20-%20Harry%20Potter%201%20-%20Sorcerer's%20Stone.txt\n",
            "Resolving raw.githubusercontent.com (raw.githubusercontent.com)... 185.199.108.133, 185.199.109.133, 185.199.110.133, ...\n",
            "Connecting to raw.githubusercontent.com (raw.githubusercontent.com)|185.199.108.133|:443... connected.\n",
            "HTTP request sent, awaiting response... 200 OK\n",
            "Length: 439742 (429K) [text/plain]\n",
            "Saving to: ‘J. K. Rowling - Harry Potter 1 - Sorcerer's Stone.txt’\n",
            "\n",
            "J. K. Rowling - Har 100%[===================>] 429.44K  --.-KB/s    in 0.05s   \n",
            "\n",
            "2025-03-18 05:25:14 (8.90 MB/s) - ‘J. K. Rowling - Harry Potter 1 - Sorcerer's Stone.txt’ saved [439742/439742]\n",
            "\n"
          ]
        }
      ],
      "source": [
        "!wget \"https://raw.githubusercontent.com/amephraim/nlp/master/texts/J.%20K.%20Rowling%20-%20Harry%20Potter%201%20-%20Sorcerer's%20Stone.txt\"\n"
      ]
    },
    {
      "cell_type": "markdown",
      "metadata": {
        "id": "PT6qumaDyhDT"
      },
      "source": [
        "## 3. Text Preprocessing\n",
        "\n",
        "Before we can use the text data, we need to preprocess it:\n",
        "- Remove punctuation\n",
        "- Convert text to lowercase\n",
        "- Split text into tokens (words)\n",
        "\n",
        "This function will help us clean and tokenize the text."
      ]
    },
    {
      "cell_type": "code",
      "execution_count": 3,
      "metadata": {
        "id": "CUsXJYlIQRMs"
      },
      "outputs": [],
      "source": [
        "def remove_punctuation(x):\n",
        "  return x.translate(''.maketrans('', '', string.punctuation))\n",
        "\n",
        "def make_tokenized_corpus(corpus):\n",
        "  out= [ [y.lower() for y in remove_punctuation(sentence).split(' ') if y] for sentence in corpus]\n",
        "  return [x for x in out if x!=[]]\n"
      ]
    },
    {
      "cell_type": "markdown",
      "metadata": {
        "id": "ptv8VRGXyhDT"
      },
      "source": [
        "## 4. Loading and Formatting the Text\n",
        "\n",
        "Now we'll load the text file, replace some special characters, and split the text into sentences.\n"
      ]
    },
    {
      "cell_type": "code",
      "execution_count": 4,
      "metadata": {
        "id": "Ry1o-F-bQRMs"
      },
      "outputs": [],
      "source": [
        "with open(\"J. K. Rowling - Harry Potter 1 - Sorcerer's Stone.txt\", 'r') as f:\n",
        "  strings = f.readlines()\n",
        "sample_text = \"\".join(strings).replace('\\n', ' ').replace('Mr.', 'mr').replace('Mrs.', 'mrs').split('. ')\n"
      ]
    },
    {
      "cell_type": "markdown",
      "metadata": {
        "id": "p-mCXyJuyhDT"
      },
      "source": [
        "Let's tokenize the text using our preprocessing function `make_tokenized_corpus`:"
      ]
    },
    {
      "cell_type": "code",
      "execution_count": 5,
      "metadata": {
        "id": "Ne-pUaxSQRMs"
      },
      "outputs": [],
      "source": [
        "# Corpus is a list of list of strings (words)"
      ]
    },
    {
      "cell_type": "code",
      "source": [
        "corpus = make_tokenized_corpus(sample_text)\n",
        "\n",
        "corpus[:5]"
      ],
      "metadata": {
        "colab": {
          "base_uri": "https://localhost:8080/"
        },
        "id": "Sx6UoEHjylS1",
        "outputId": "6bf1487e-1f47-434f-cd12-0fd1ae6345e7"
      },
      "execution_count": 6,
      "outputs": [
        {
          "output_type": "execute_result",
          "data": {
            "text/plain": [
              "[['harry',\n",
              "  'potter',\n",
              "  'and',\n",
              "  'the',\n",
              "  'sorcerers',\n",
              "  'stone',\n",
              "  'chapter',\n",
              "  'one',\n",
              "  'the',\n",
              "  'boy',\n",
              "  'who',\n",
              "  'lived',\n",
              "  'mr',\n",
              "  'and',\n",
              "  'mrs',\n",
              "  'dursley',\n",
              "  'of',\n",
              "  'number',\n",
              "  'four',\n",
              "  'privet',\n",
              "  'drive',\n",
              "  'were',\n",
              "  'proud',\n",
              "  'to',\n",
              "  'say',\n",
              "  'that',\n",
              "  'they',\n",
              "  'were',\n",
              "  'perfectly',\n",
              "  'normal',\n",
              "  'thank',\n",
              "  'you',\n",
              "  'very',\n",
              "  'much'],\n",
              " ['they',\n",
              "  'were',\n",
              "  'the',\n",
              "  'last',\n",
              "  'people',\n",
              "  'youd',\n",
              "  'expect',\n",
              "  'to',\n",
              "  'be',\n",
              "  'involved',\n",
              "  'in',\n",
              "  'anything',\n",
              "  'strange',\n",
              "  'or',\n",
              "  'mysterious',\n",
              "  'because',\n",
              "  'they',\n",
              "  'just',\n",
              "  'didnt',\n",
              "  'hold',\n",
              "  'with',\n",
              "  'such',\n",
              "  'nonsense'],\n",
              " ['mr',\n",
              "  'dursley',\n",
              "  'was',\n",
              "  'the',\n",
              "  'director',\n",
              "  'of',\n",
              "  'a',\n",
              "  'firm',\n",
              "  'called',\n",
              "  'grunnings',\n",
              "  'which',\n",
              "  'made',\n",
              "  'drills'],\n",
              " ['he',\n",
              "  'was',\n",
              "  'a',\n",
              "  'big',\n",
              "  'beefy',\n",
              "  'man',\n",
              "  'with',\n",
              "  'hardly',\n",
              "  'any',\n",
              "  'neck',\n",
              "  'although',\n",
              "  'he',\n",
              "  'did',\n",
              "  'have',\n",
              "  'a',\n",
              "  'very',\n",
              "  'large',\n",
              "  'mustache'],\n",
              " ['mrs',\n",
              "  'dursley',\n",
              "  'was',\n",
              "  'thin',\n",
              "  'and',\n",
              "  'blonde',\n",
              "  'and',\n",
              "  'had',\n",
              "  'nearly',\n",
              "  'twice',\n",
              "  'the',\n",
              "  'usual',\n",
              "  'amount',\n",
              "  'of',\n",
              "  'neck',\n",
              "  'which',\n",
              "  'came',\n",
              "  'in',\n",
              "  'very',\n",
              "  'useful',\n",
              "  'as',\n",
              "  'she',\n",
              "  'spent',\n",
              "  'so',\n",
              "  'much',\n",
              "  'of',\n",
              "  'her',\n",
              "  'time',\n",
              "  'craning',\n",
              "  'over',\n",
              "  'garden',\n",
              "  'fences',\n",
              "  'spying',\n",
              "  'on',\n",
              "  'the',\n",
              "  'neighbors']]"
            ]
          },
          "metadata": {},
          "execution_count": 6
        }
      ]
    },
    {
      "cell_type": "markdown",
      "metadata": {
        "id": "rLBY2P7_yhDU"
      },
      "source": [
        "## 5. Creating Context Word Pairs\n",
        "\n",
        "A key concept in Word2Vec is learning from context. We need to create pairs of words that appear near each other in the text. We'll use a sliding window approach to create these pairs.\n",
        "\n",
        "For example, with the window size of 2, for the word \"to\" in the sentence \"they were the last people youd expect to be involved...\", we would create pairs with:\n",
        "- (\"to\", \"expect\")\n",
        "- (\"to\", \"be\")\n",
        "- (\"to\", \"involved\")\n",
        "- (\"to\", \"in\")\n",
        "\n",
        "These pairs will be our training data."
      ]
    },
    {
      "cell_type": "code",
      "execution_count": 7,
      "metadata": {
        "colab": {
          "base_uri": "https://localhost:8080/"
        },
        "id": "-UxJwTAacWfP",
        "outputId": "6b79e9ed-220f-4d0b-ede6-b5a56aaa8cb5"
      },
      "outputs": [
        {
          "output_type": "stream",
          "name": "stderr",
          "text": [
            "100%|██████████| 4682/4682 [00:00<00:00, 5923.95it/s]"
          ]
        },
        {
          "output_type": "stream",
          "name": "stdout",
          "text": [
            "\n",
            "Length of word_pairs is 282372\n",
            "First 5 example of word_pairs is [('harry', 'potter'), ('harry', 'and'), ('potter', 'harry'), ('potter', 'and'), ('potter', 'the')]\n"
          ]
        },
        {
          "output_type": "stream",
          "name": "stderr",
          "text": [
            "\n"
          ]
        }
      ],
      "source": [
        "from tqdm import tqdm\n",
        "\n",
        "sample_sentence = ['they', 'were', 'the', 'last', 'people', 'youd', 'expect', 'to', 'be', 'involved', 'in', 'anything', 'strange', 'or', 'mysterious', 'because', 'they', 'just', 'didnt', 'hold', 'with', 'such', 'nonsense']\n",
        "\n",
        "word_pairs = []\n",
        "window_size = 2\n",
        "\n",
        "for sample_sentence in tqdm(corpus):\n",
        "  for cur_idx, center_word in enumerate(sample_sentence):\n",
        "    window_begin = max(cur_idx - window_size, 0)\n",
        "    window_end = min(cur_idx + window_size + 1, len(sample_sentence))\n",
        "    # for context_word in sample_sentence[window_begin:window_end]:\n",
        "    #   # if center_word == context_word: continue\n",
        "    #   word_pairs.append( (center_word, context_word))\n",
        "    for j in range(window_begin, window_end):\n",
        "      if cur_idx == j: continue\n",
        "      word_pairs.append( (center_word, sample_sentence[j]))\n",
        "\n",
        "print(f\"\\nLength of word_pairs is {len(word_pairs)}\")\n",
        "print(f\"First 5 example of word_pairs is {word_pairs[:5]}\")"
      ]
    },
    {
      "cell_type": "markdown",
      "metadata": {
        "id": "WD-SN32cyhDU"
      },
      "source": [
        "## 6. Building the Vocabulary\n",
        "\n",
        "To work with word vectors, we need to create a vocabulary that maps each unique word to an index. We'll also filter out rare words that appear less than a certain number of times in the corpus.\n",
        "\n",
        "### 6.1 Collecting All Words\n",
        "\n",
        "First, let's collect all words in our corpus:\n"
      ]
    },
    {
      "cell_type": "code",
      "execution_count": 8,
      "metadata": {
        "id": "htinJiMPkkRE"
      },
      "outputs": [],
      "source": [
        "# we have to make vocabulary\n",
        "sentence = corpus[0]\n",
        "entire_words = []\n",
        "\n",
        "for sentence in corpus:\n",
        "  for word in sentence:\n",
        "    entire_words.append(word)\n",
        "\n"
      ]
    },
    {
      "cell_type": "markdown",
      "metadata": {
        "id": "j_68LD6IyhDU"
      },
      "source": [
        "\n",
        "### 6.2 Finding Unique Words\n",
        "\n",
        "Now, let's find the unique words in our corpus:"
      ]
    },
    {
      "cell_type": "code",
      "execution_count": 9,
      "metadata": {
        "colab": {
          "base_uri": "https://localhost:8080/"
        },
        "id": "ERBFCjeslgDe",
        "outputId": "55ca0909-ccc6-41e1-c6e8-310aae1591ac"
      },
      "outputs": [
        {
          "output_type": "execute_result",
          "data": {
            "text/plain": [
              "6038"
            ]
          },
          "metadata": {},
          "execution_count": 9
        }
      ],
      "source": [
        "# we have to get the \"unique\" item among total words\n",
        "\n",
        "unique_words = set(entire_words)\n",
        "len(unique_words)\n"
      ]
    },
    {
      "cell_type": "markdown",
      "metadata": {
        "id": "H7oqHw4dyhDU"
      },
      "source": [
        "### 6.3 Converting to a List and Sorting\n",
        "\n",
        "We'll convert the set of unique words to a sorted list:"
      ]
    },
    {
      "cell_type": "code",
      "execution_count": 10,
      "metadata": {
        "colab": {
          "base_uri": "https://localhost:8080/",
          "height": 35
        },
        "id": "fDJNrHdhl_dk",
        "outputId": "f10c6efa-f4e8-47e8-b57f-8ea31fe0f5c8"
      },
      "outputs": [
        {
          "output_type": "execute_result",
          "data": {
            "text/plain": [
              "'\\the'"
            ],
            "application/vnd.google.colaboratory.intrinsic+json": {
              "type": "string"
            }
          },
          "metadata": {},
          "execution_count": 10
        }
      ],
      "source": [
        "# vocab_set[0] # set is not subscriptable because it has no order\n",
        "\n",
        "unique_words = sorted(list(unique_words))\n",
        "unique_words[0]\n"
      ]
    },
    {
      "cell_type": "markdown",
      "metadata": {
        "id": "gyPBBsJCyhDU"
      },
      "source": [
        "### 6.4 Filtering by Frequency\n",
        "\n",
        "Now, let's filter out rare words that occur less than a specified number of times:\n",
        "- We can use the `Counter` class from the `collections` module to count the frequency of each word in the corpus.\n",
        "- Caution on `alist.sort()` will return `None`."
      ]
    },
    {
      "cell_type": "code",
      "execution_count": 11,
      "metadata": {
        "colab": {
          "base_uri": "https://localhost:8080/"
        },
        "id": "wOkBSjrkmNE4",
        "outputId": "468becd1-7b42-41db-c322-04bc495e0789"
      },
      "outputs": [
        {
          "output_type": "execute_result",
          "data": {
            "text/plain": [
              "['a',\n",
              " 'able',\n",
              " 'abou',\n",
              " 'about',\n",
              " 'above',\n",
              " 'across',\n",
              " 'added',\n",
              " 'afford',\n",
              " 'afraid',\n",
              " 'after']"
            ]
          },
          "metadata": {},
          "execution_count": 11
        }
      ],
      "source": [
        "# how can we filter the vocab by its frequency?\n",
        "filtered_vocab = None\n",
        "# you can use word counter as dictionary\n",
        "# In python dictionary, dict.keys() gives keys, and dict.values() give values,\n",
        "# dict.items() give (key, value)\n",
        "\n",
        "from collections import Counter\n",
        "word_counter = Counter(entire_words)\n",
        "word_counter.most_common(10)\n",
        "word_counter['harry']\n",
        "\n",
        "threshold = 5\n",
        "filtered_vocab = []\n",
        "\n",
        "for key, value in word_counter.items():\n",
        "  if value > threshold:\n",
        "    filtered_vocab.append(key)\n",
        "\n",
        "filtered_vocab.sort()\n",
        "filtered_vocab[:10]"
      ]
    },
    {
      "cell_type": "markdown",
      "metadata": {
        "id": "Gfez7UfYyhDU"
      },
      "source": [
        "## 7. Filtering Word Pairs\n",
        "\n",
        "Now that we have our filtered vocabulary, we need to filter our word pairs to only include words that are in our vocabulary:"
      ]
    },
    {
      "cell_type": "code",
      "execution_count": 12,
      "metadata": {
        "colab": {
          "base_uri": "https://localhost:8080/"
        },
        "id": "XUS6U7y7opUp",
        "outputId": "4fe139ab-4a1f-483a-e689-2a2fdfe5d9c7"
      },
      "outputs": [
        {
          "output_type": "stream",
          "name": "stderr",
          "text": [
            "100%|██████████| 282372/282372 [00:00<00:00, 358023.85it/s]\n"
          ]
        }
      ],
      "source": [
        "# Filter the word_pairs using the vocab\n",
        "# word_pairs, filtered_vocab\n",
        "# word_pairs is a list of [word_a, word_b]\n",
        "\n",
        "filtered_word_pairs = []\n",
        "vocab_set = set(filtered_vocab)\n",
        "\n",
        "for pair in tqdm(word_pairs):\n",
        "  a, b = pair\n",
        "  if a in vocab_set and b in vocab_set:\n",
        "    filtered_word_pairs.append(pair)\n"
      ]
    },
    {
      "cell_type": "code",
      "execution_count": 13,
      "metadata": {
        "id": "U-o4UucOrcem"
      },
      "outputs": [],
      "source": [
        "# implement same algorithm with list comprehension\n",
        "\n",
        "filtered_word_pairs = [pair for pair in word_pairs if pair[0] in vocab_set and pair[1] in vocab_set]\n"
      ]
    },
    {
      "cell_type": "code",
      "execution_count": 14,
      "metadata": {
        "colab": {
          "base_uri": "https://localhost:8080/"
        },
        "id": "Uz_8ch59ps_P",
        "outputId": "5dedb933-e4a7-4225-e1e1-43c9dd5769de"
      },
      "outputs": [
        {
          "output_type": "execute_result",
          "data": {
            "text/plain": [
              "(226846, 282372)"
            ]
          },
          "metadata": {},
          "execution_count": 14
        }
      ],
      "source": [
        "len(filtered_word_pairs), len(word_pairs)"
      ]
    },
    {
      "cell_type": "markdown",
      "metadata": {
        "id": "fGqUhV1ayhDU"
      },
      "source": [
        "## 8. Converting Words to Indices\n",
        "\n",
        "For efficiency, we'll convert our words to indices according to their position in our vocabulary:"
      ]
    },
    {
      "cell_type": "code",
      "execution_count": 15,
      "metadata": {
        "colab": {
          "base_uri": "https://localhost:8080/"
        },
        "id": "VFJfhOznqyi-",
        "outputId": "2027fd57-96d6-4cd7-d48c-f6177d134e98"
      },
      "outputs": [
        {
          "output_type": "execute_result",
          "data": {
            "text/plain": [
              "527"
            ]
          },
          "metadata": {},
          "execution_count": 15
        }
      ],
      "source": [
        "# convert word into index of vocab\n",
        "filtered_vocab.index('harry')"
      ]
    },
    {
      "cell_type": "markdown",
      "metadata": {
        "id": "mr7Ov52nyhDU"
      },
      "source": [
        "This is inefficient because `list.index()` has to scan the list every time. Let's use a dictionary for faster lookups:"
      ]
    },
    {
      "cell_type": "code",
      "execution_count": 16,
      "metadata": {
        "colab": {
          "base_uri": "https://localhost:8080/"
        },
        "id": "2D8n16VitIHP",
        "outputId": "4c630891-eb5a-4d83-f2cb-644df5e4f295"
      },
      "outputs": [
        {
          "output_type": "execute_result",
          "data": {
            "text/plain": [
              "527"
            ]
          },
          "metadata": {},
          "execution_count": 16
        }
      ],
      "source": [
        "# we can make it faster\n",
        "# use dictionary to find the index of string\n",
        "word2idx = dict()\n",
        "for idx, word in enumerate(filtered_vocab):\n",
        "  word2idx[word] = idx\n",
        "word2idx['harry']"
      ]
    },
    {
      "cell_type": "markdown",
      "metadata": {
        "id": "GG9ESVqLyhDV"
      },
      "source": [
        "Now, let's convert our word pairs to index pairs more efficiently:"
      ]
    },
    {
      "cell_type": "code",
      "execution_count": 19,
      "metadata": {
        "id": "utXemuOgt8-o",
        "colab": {
          "base_uri": "https://localhost:8080/"
        },
        "outputId": "ea6139de-43a9-4467-eca3-e80e43515c6f"
      },
      "outputs": [
        {
          "output_type": "execute_result",
          "data": {
            "text/plain": [
              "(527, 953)"
            ]
          },
          "metadata": {},
          "execution_count": 19
        }
      ],
      "source": [
        "index_pairs = [(word2idx[pair[0]], word2idx[pair[1]]) for pair in filtered_word_pairs]\n",
        "index_pairs[0]"
      ]
    },
    {
      "cell_type": "code",
      "execution_count": 20,
      "metadata": {
        "id": "KgQ_oSNGuZAd",
        "colab": {
          "base_uri": "https://localhost:8080/",
          "height": 35
        },
        "outputId": "a6cb02b4-67ae-4ebf-af8b-a75f75c042f9"
      },
      "outputs": [
        {
          "output_type": "execute_result",
          "data": {
            "text/plain": [
              "'harry'"
            ],
            "application/vnd.google.colaboratory.intrinsic+json": {
              "type": "string"
            }
          },
          "metadata": {},
          "execution_count": 20
        }
      ],
      "source": [
        "# Why we don't need idx2tok?\n",
        "\n",
        "filtered_vocab[527]"
      ]
    },
    {
      "cell_type": "markdown",
      "metadata": {
        "id": "waHqgJANyhDV"
      },
      "source": [
        "## 9. Creating Initial Word Vectors\n",
        "\n",
        "Now we'll create random vectors for each word in our vocabulary. These vectors will be adjusted during training:\n",
        "- We can use `torch.randn` to create random vectors that follow normal distribution."
      ]
    },
    {
      "cell_type": "code",
      "execution_count": 26,
      "metadata": {
        "id": "ygV93qzDu4Ls",
        "colab": {
          "base_uri": "https://localhost:8080/"
        },
        "outputId": "285b7a0f-cc1b-42bb-a414-1b4274debe86"
      },
      "outputs": [
        {
          "output_type": "execute_result",
          "data": {
            "text/plain": [
              "tensor([[-0.1442, -0.0750,  0.1677,  ...,  0.0481, -0.0059, -0.0494],\n",
              "        [-0.0340, -0.0409, -0.0938,  ..., -0.1039,  0.0883, -0.0281],\n",
              "        [-0.1188, -0.0660, -0.1107,  ..., -0.0919, -0.1359, -0.0358],\n",
              "        ...,\n",
              "        [-0.0728,  0.1432,  0.0942,  ...,  0.0631,  0.0526, -0.0775],\n",
              "        [ 0.1029, -0.0082,  0.0629,  ..., -0.1282, -0.0532, -0.1945],\n",
              "        [ 0.0406, -0.0301, -0.0545,  ..., -0.0331, -0.1650,  0.1634]])"
            ]
          },
          "metadata": {},
          "execution_count": 26
        }
      ],
      "source": [
        "# we have to make random vectors for each word in the vocab\n",
        "# we also have to decide the dimension of the vector\n",
        "\n",
        "dim = 100\n",
        "vocab_size = len(filtered_vocab)\n",
        "\n",
        "word_vectors = torch.randn(vocab_size, dim) / 10 # 일반적으로 벡터의 의미를 담고 있는 차원들을 뒤로 뺀다, 특정 단어의 벡터를 빼기 쉽기 때문\n",
        "word_vectors"
      ]
    },
    {
      "cell_type": "code",
      "execution_count": 29,
      "metadata": {
        "id": "vmZcT53rvwW2",
        "colab": {
          "base_uri": "https://localhost:8080/"
        },
        "outputId": "d11524ac-2813-4646-8148-a53ca5c7f4b6"
      },
      "outputs": [
        {
          "output_type": "execute_result",
          "data": {
            "text/plain": [
              "tensor([     0.1383,     -0.1849,      0.0289,     -0.1807,     -0.1694,\n",
              "             0.1503,     -0.1115,     -0.1284,     -0.0664,      0.0216,\n",
              "             0.0307,     -0.0074,     -0.0696,      0.1945,      0.0672,\n",
              "             0.1616,     -0.1016,      0.1191,      0.0605,      0.0309,\n",
              "             0.1388,      0.0398,     -0.0562,     -0.0255,     -0.0543,\n",
              "            -0.0199,      0.0071,      0.0043,     -0.0615,     -0.0057,\n",
              "            -0.1522,     -0.0820,     -0.0621,      0.0530,      0.0062,\n",
              "             0.0080,      0.0404,     -0.0975,     -0.1607,     -0.0184,\n",
              "             0.1792,      0.0993,     -0.0479,      0.0652,      0.0346,\n",
              "             0.0949,      0.0040,     -0.0192,      0.1256,      0.1697,\n",
              "            -0.1190,     -0.2193,      0.1733,     -0.0194,     -0.1189,\n",
              "            -0.1004,     -0.0499,      0.0284,     -0.0251,     -0.1820,\n",
              "             0.2407,     -0.0303,     -0.0702,     -0.0674,     -0.0196,\n",
              "             0.1770,      0.1054,     -0.0328,     -0.0246,     -0.0285,\n",
              "            -0.0002,     -0.0741,      0.1633,     -0.0722,      0.1212,\n",
              "             0.0048,      0.0882,      0.1561,     -0.0825,     -0.0930,\n",
              "             0.0180,      0.0942,      0.0581,      0.0975,     -0.0257,\n",
              "             0.1168,      0.0705,      0.1391,     -0.0724,     -0.0660,\n",
              "             0.0939,     -0.0208,      0.0818,      0.1702,     -0.0672,\n",
              "            -0.0644,     -0.0180,      0.2187,     -0.0441,     -0.0299])"
            ]
          },
          "metadata": {},
          "execution_count": 29
        }
      ],
      "source": [
        "# what is the vector for harry?\n",
        "word_vectors[word2idx['harry']] # 몇 숫자만 크게 된다면 문제가 있음 -> 정규화?"
      ]
    },
    {
      "cell_type": "markdown",
      "metadata": {
        "id": "LLdvJrdKyhDV"
      },
      "source": [
        "## 10. Understanding Word Relationships with Dot Products\n",
        "\n",
        "The core of Word2Vec is using dot products to measure relationships between words. Let's explore this concept:"
      ]
    },
    {
      "cell_type": "code",
      "execution_count": 28,
      "metadata": {
        "id": "J4bEKFvUxbVv"
      },
      "outputs": [],
      "source": [
        "torch.set_printoptions(sci_mode=False) # Do this to avoid scientific notation\n"
      ]
    },
    {
      "cell_type": "markdown",
      "metadata": {
        "id": "VaCMWmD6Suhy"
      },
      "source": [
        "## Dot Product\n",
        "- Assume we have two vectors $a$ and $b$.\n",
        "  - $a = [a_1, a_2, a_3, a_4, ..., a_n]$\n",
        "  - $b = [b_1, b_2, b_3, b_4, ..., b_n]$\n",
        "- $a \\cdot b$ = $\\sum _{i=1}^n a_ib_i$  = $a_1b_1 + a_2b_2 + a_3b_3 + a_4b_4 + ... + a_nb_n$\n",
        "\n",
        "Let's calculate the dot product between \"harry\" and \"potter\":\n"
      ]
    },
    {
      "cell_type": "code",
      "execution_count": 33,
      "metadata": {
        "id": "gsse-jUrw6c2",
        "colab": {
          "base_uri": "https://localhost:8080/"
        },
        "outputId": "eaf8e136-9e00-492e-e190-87cd6c60404b"
      },
      "outputs": [
        {
          "output_type": "execute_result",
          "data": {
            "text/plain": [
              "tensor(0.1538)"
            ]
          },
          "metadata": {},
          "execution_count": 33
        }
      ],
      "source": [
        "# calculate P(potter|harry)\n",
        "harry = word_vectors[word2idx['harry']]\n",
        "potter = word_vectors[word2idx['potter']]\n",
        "\n",
        "dot_product_value_between_potter_harry = torch.dot(harry, potter) # sum(harry * potter)\n",
        "dot_product_value_between_potter_harry"
      ]
    },
    {
      "cell_type": "code",
      "execution_count": 34,
      "metadata": {
        "id": "wZrLEY36yBNZ",
        "colab": {
          "base_uri": "https://localhost:8080/"
        },
        "outputId": "795dafd5-9a12-47dc-c1be-e9e29e5f3383"
      },
      "outputs": [
        {
          "output_type": "execute_result",
          "data": {
            "text/plain": [
              "{'a': tensor(0.2376),\n",
              " 'able': tensor(-0.2906),\n",
              " 'abou': tensor(0.0773),\n",
              " 'about': tensor(0.0401),\n",
              " 'above': tensor(0.0242),\n",
              " 'across': tensor(-0.1567),\n",
              " 'added': tensor(-0.0084),\n",
              " 'afford': tensor(0.0220),\n",
              " 'afraid': tensor(0.0609),\n",
              " 'after': tensor(-0.0576),\n",
              " 'afternoon': tensor(-0.0768),\n",
              " 'again': tensor(-0.2382),\n",
              " 'against': tensor(0.0317),\n",
              " 'ages': tensor(0.0827),\n",
              " 'ago': tensor(0.0136),\n",
              " 'agreed': tensor(0.0270),\n",
              " 'ah': tensor(-0.0181),\n",
              " 'ahead': tensor(0.0321),\n",
              " 'air': tensor(-0.1077),\n",
              " 'albus': tensor(-0.0793),\n",
              " 'alive': tensor(-0.0183),\n",
              " 'all': tensor(-0.0816),\n",
              " 'alley': tensor(-0.2130),\n",
              " 'allowed': tensor(-0.1142),\n",
              " 'almost': tensor(-0.0177),\n",
              " 'alone': tensor(0.0993),\n",
              " 'along': tensor(-0.1126),\n",
              " 'already': tensor(-0.0928),\n",
              " 'also': tensor(-0.0149),\n",
              " 'although': tensor(0.0886),\n",
              " 'always': tensor(-0.0046),\n",
              " 'am': tensor(0.0780),\n",
              " 'an': tensor(-0.0451),\n",
              " 'and': tensor(-0.1499),\n",
              " 'angrily': tensor(0.0850),\n",
              " 'angry': tensor(0.1341),\n",
              " 'another': tensor(-0.0926),\n",
              " 'answer': tensor(-0.0178),\n",
              " 'any': tensor(0.0058),\n",
              " 'anymore': tensor(0.0551),\n",
              " 'anyone': tensor(0.0329),\n",
              " 'anythin': tensor(-0.1042),\n",
              " 'anything': tensor(-0.0994),\n",
              " 'anyway': tensor(0.0525),\n",
              " 'anywhere': tensor(-0.0710),\n",
              " 'apart': tensor(0.0684),\n",
              " 'appeared': tensor(0.0404),\n",
              " 'are': tensor(-0.1916),\n",
              " 'arent': tensor(0.1350),\n",
              " 'arm': tensor(-0.0708),\n",
              " 'armor': tensor(-0.0055),\n",
              " 'arms': tensor(-0.0436),\n",
              " 'around': tensor(0.0922),\n",
              " 'arrived': tensor(0.0483),\n",
              " 'arts': tensor(-0.0092),\n",
              " 'as': tensor(-0.0186),\n",
              " 'ask': tensor(0.0052),\n",
              " 'asked': tensor(0.0807),\n",
              " 'asking': tensor(-0.1100),\n",
              " 'asleep': tensor(-0.0791),\n",
              " 'at': tensor(-0.1341),\n",
              " 'attention': tensor(-0.0125),\n",
              " 'aunt': tensor(0.0076),\n",
              " 'awake': tensor(0.0386),\n",
              " 'away': tensor(0.0468),\n",
              " 'baby': tensor(-0.0616),\n",
              " 'back': tensor(0.1116),\n",
              " 'backward': tensor(0.0182),\n",
              " 'bacon': tensor(-0.1092),\n",
              " 'bad': tensor(-0.0063),\n",
              " 'bag': tensor(0.0150),\n",
              " 'ball': tensor(-0.0452),\n",
              " 'balls': tensor(0.0225),\n",
              " 'bane': tensor(0.0182),\n",
              " 'barrier': tensor(-0.1072),\n",
              " 'be': tensor(    -0.0001),\n",
              " 'beans': tensor(-0.1010),\n",
              " 'beard': tensor(-0.0633),\n",
              " 'became': tensor(0.0127),\n",
              " 'because': tensor(-0.1437),\n",
              " 'become': tensor(-0.0496),\n",
              " 'bed': tensor(-0.0588),\n",
              " 'bedroom': tensor(-0.1254),\n",
              " 'been': tensor(0.1769),\n",
              " 'before': tensor(-0.1098),\n",
              " 'began': tensor(-0.0079),\n",
              " 'behind': tensor(-0.1651),\n",
              " 'being': tensor(0.1530),\n",
              " 'believe': tensor(-0.0114),\n",
              " 'below': tensor(0.0428),\n",
              " 'beneath': tensor(-0.0908),\n",
              " 'bent': tensor(0.0457),\n",
              " 'best': tensor(0.0551),\n",
              " 'bet': tensor(0.0343),\n",
              " 'better': tensor(-0.0058),\n",
              " 'between': tensor(-0.0622),\n",
              " 'big': tensor(-0.0361),\n",
              " 'bill': tensor(-0.1530),\n",
              " 'bin': tensor(0.0010),\n",
              " 'binoculars': tensor(-0.1312),\n",
              " 'birthday': tensor(0.0225),\n",
              " 'bit': tensor(0.0171),\n",
              " 'black': tensor(-0.0454),\n",
              " 'blankets': tensor(-0.1589),\n",
              " 'blew': tensor(0.1002),\n",
              " 'blood': tensor(-0.2048),\n",
              " 'bloody': tensor(-0.0344),\n",
              " 'bludger': tensor(0.1293),\n",
              " 'bludgers': tensor(0.1081),\n",
              " 'blue': tensor(-0.0763),\n",
              " 'board': tensor(0.1071),\n",
              " 'boat': tensor(0.2162),\n",
              " 'boats': tensor(-0.0508),\n",
              " 'body': tensor(0.1400),\n",
              " 'book': tensor(-0.0144),\n",
              " 'books': tensor(-0.0401),\n",
              " 'both': tensor(0.1343),\n",
              " 'bottle': tensor(0.0560),\n",
              " 'bottles': tensor(-0.0075),\n",
              " 'bottom': tensor(0.2409),\n",
              " 'bought': tensor(-0.0219),\n",
              " 'bowed': tensor(0.1161),\n",
              " 'box': tensor(0.0452),\n",
              " 'boy': tensor(-0.0209),\n",
              " 'boys': tensor(-0.1437),\n",
              " 'branches': tensor(-0.0821),\n",
              " 'brave': tensor(0.0905),\n",
              " 'break': tensor(0.1481),\n",
              " 'breakfast': tensor(0.0033),\n",
              " 'breaking': tensor(-0.0760),\n",
              " 'breath': tensor(-0.0903),\n",
              " 'breathing': tensor(0.0209),\n",
              " 'bright': tensor(-0.0951),\n",
              " 'brilliant': tensor(0.0462),\n",
              " 'broke': tensor(0.0464),\n",
              " 'broken': tensor(0.1305),\n",
              " 'broom': tensor(0.0308),\n",
              " 'brooms': tensor(0.0031),\n",
              " 'broomstick': tensor(0.0345),\n",
              " 'broomsticks': tensor(-0.0177),\n",
              " 'brother': tensor(-0.0161),\n",
              " 'brothers': tensor(-0.0651),\n",
              " 'brought': tensor(-0.0149),\n",
              " 'brown': tensor(0.1545),\n",
              " 'burst': tensor(    -0.0000),\n",
              " 'business': tensor(0.0321),\n",
              " 'busy': tensor(-0.0828),\n",
              " 'but': tensor(0.0637),\n",
              " 'buy': tensor(-0.0652),\n",
              " 'by': tensor(-0.0201),\n",
              " 'cake': tensor(-0.1964),\n",
              " 'cakes': tensor(0.1133),\n",
              " 'call': tensor(-0.0238),\n",
              " 'called': tensor(0.0812),\n",
              " 'came': tensor(0.2099),\n",
              " 'can': tensor(-0.0655),\n",
              " 'cant': tensor(-0.0024),\n",
              " 'car': tensor(-0.0618),\n",
              " 'card': tensor(0.0610),\n",
              " 'care': tensor(-0.0619),\n",
              " 'careful': tensor(-0.0994),\n",
              " 'carefully': tensor(0.1453),\n",
              " 'carried': tensor(0.0681),\n",
              " 'carrying': tensor(0.0411),\n",
              " 'cart': tensor(-0.1034),\n",
              " 'case': tensor(0.0406),\n",
              " 'castle': tensor(-0.0009),\n",
              " 'cat': tensor(-0.1803),\n",
              " 'catch': tensor(-0.1112),\n",
              " 'cats': tensor(-0.1203),\n",
              " 'caught': tensor(-0.1208),\n",
              " 'cauldron': tensor(-0.0119),\n",
              " 'cause': tensor(0.0454),\n",
              " 'ceiling': tensor(-0.1355),\n",
              " 'centaur': tensor(0.0188),\n",
              " 'certainly': tensor(0.0971),\n",
              " 'chair': tensor(0.0662),\n",
              " 'chamber': tensor(0.0500),\n",
              " 'chance': tensor(0.0397),\n",
              " 'change': tensor(0.0304),\n",
              " 'changed': tensor(0.0498),\n",
              " 'chapter': tensor(0.1811),\n",
              " 'charlie': tensor(0.0352),\n",
              " 'charlies': tensor(0.0105),\n",
              " 'charms': tensor(0.0083),\n",
              " 'chasers': tensor(-0.1718),\n",
              " 'cheer': tensor(0.0701),\n",
              " 'cheering': tensor(0.0695),\n",
              " 'cheers': tensor(-0.0952),\n",
              " 'chess': tensor(-0.0252),\n",
              " 'chessmen': tensor(-0.1160),\n",
              " 'chest': tensor(0.0996),\n",
              " 'chocolate': tensor(0.1582),\n",
              " 'christmas': tensor(-0.0010),\n",
              " 'chuckled': tensor(0.0731),\n",
              " 'clambered': tensor(0.0382),\n",
              " 'clapped': tensor(-0.0111),\n",
              " 'class': tensor(-0.1176),\n",
              " 'classes': tensor(0.0785),\n",
              " 'classroom': tensor(-0.0748),\n",
              " 'clean': tensor(-0.0915),\n",
              " 'clear': tensor(0.0240),\n",
              " 'cleared': tensor(-0.1097),\n",
              " 'clearing': tensor(-0.0857),\n",
              " 'clearly': tensor(0.0159),\n",
              " 'clicked': tensor(0.0024),\n",
              " 'climbed': tensor(-0.1011),\n",
              " 'cloak': tensor(0.0707),\n",
              " 'close': tensor(-0.0758),\n",
              " 'closer': tensor(0.1932),\n",
              " 'clothes': tensor(-0.2678),\n",
              " 'club': tensor(-0.0028),\n",
              " 'clutching': tensor(0.1833),\n",
              " 'coat': tensor(-0.0784),\n",
              " 'cold': tensor(0.0876),\n",
              " 'come': tensor(-0.0056),\n",
              " 'coming': tensor(0.0560),\n",
              " 'common': tensor(0.1804),\n",
              " 'compartment': tensor(-0.0123),\n",
              " 'completely': tensor(-0.1907),\n",
              " 'computer': tensor(-0.0354),\n",
              " 'control': tensor(0.0156),\n",
              " 'corner': tensor(0.0093),\n",
              " 'corridor': tensor(-0.0787),\n",
              " 'corridors': tensor(0.0997),\n",
              " 'could': tensor(0.0141),\n",
              " 'couldnt': tensor(-0.1425),\n",
              " 'couple': tensor(0.0594),\n",
              " 'courage': tensor(0.0152),\n",
              " 'course': tensor(0.0261),\n",
              " 'covered': tensor(0.1332),\n",
              " 'crabbe': tensor(0.0047),\n",
              " 'crack': tensor(0.0489),\n",
              " 'crash': tensor(0.0023),\n",
              " 'crate': tensor(-0.0512),\n",
              " 'crept': tensor(0.1390),\n",
              " 'cried': tensor(0.0853),\n",
              " 'cross': tensor(-0.1949),\n",
              " 'crossed': tensor(0.2193),\n",
              " 'crowd': tensor(0.0634),\n",
              " 'cry': tensor(0.0296),\n",
              " 'crying': tensor(-0.0742),\n",
              " 'cup': tensor(0.1187),\n",
              " 'cupboard': tensor(-0.1403),\n",
              " 'curious': tensor(-0.0068),\n",
              " 'curse': tensor(-0.0357),\n",
              " 'cut': tensor(0.1402),\n",
              " 'dad': tensor(0.0072),\n",
              " 'damp': tensor(0.0018),\n",
              " 'dangerous': tensor(0.0589),\n",
              " 'dare': tensor(0.0501),\n",
              " 'dark': tensor(-0.0872),\n",
              " 'darkly': tensor(0.0280),\n",
              " 'darkness': tensor(-0.1564),\n",
              " 'day': tensor(-0.0424),\n",
              " 'days': tensor(-0.0357),\n",
              " 'dead': tensor(0.0178),\n",
              " 'dean': tensor(0.0476),\n",
              " 'dear': tensor(0.0385),\n",
              " 'death': tensor(-0.1094),\n",
              " 'decided': tensor(0.0602),\n",
              " 'deep': tensor(-0.0871),\n",
              " 'delighted': tensor(-0.0981),\n",
              " 'desk': tensor(0.0805),\n",
              " 'desperate': tensor(0.0211),\n",
              " 'diagon': tensor(-0.0875),\n",
              " 'did': tensor(0.0864),\n",
              " 'didnt': tensor(0.0086),\n",
              " 'die': tensor(-0.2199),\n",
              " 'died': tensor(-0.0003),\n",
              " 'difference': tensor(-0.0386),\n",
              " 'different': tensor(-0.1100),\n",
              " 'difficult': tensor(-0.2078),\n",
              " 'dinner': tensor(0.0367),\n",
              " 'direction': tensor(-0.0293),\n",
              " 'disappeared': tensor(0.0932),\n",
              " 'dived': tensor(0.0736),\n",
              " 'do': tensor(0.0010),\n",
              " 'does': tensor(-0.0924),\n",
              " 'doesnt': tensor(-0.0943),\n",
              " 'dog': tensor(-0.0587),\n",
              " 'dogs': tensor(0.0247),\n",
              " 'doing': tensor(0.1957),\n",
              " 'don': tensor(0.0985),\n",
              " 'done': tensor(0.1520),\n",
              " 'dont': tensor(-0.1441),\n",
              " 'door': tensor(-0.0399),\n",
              " 'doors': tensor(-0.0222),\n",
              " 'doorway': tensor(-0.0351),\n",
              " 'dormitory': tensor(-0.0402),\n",
              " 'down': tensor(0.0665),\n",
              " 'draco': tensor(0.1814),\n",
              " 'dragged': tensor(0.0267),\n",
              " 'dragon': tensor(0.0777),\n",
              " 'dragons': tensor(-0.0102),\n",
              " 'dream': tensor(0.0772),\n",
              " 'dressed': tensor(0.0845),\n",
              " 'drew': tensor(-0.0177),\n",
              " 'drills': tensor(0.0239),\n",
              " 'drink': tensor(    0.0000),\n",
              " 'drive': tensor(0.0223),\n",
              " 'drop': tensor(0.0460),\n",
              " 'dropped': tensor(0.1162),\n",
              " 'drove': tensor(-0.1048),\n",
              " 'dudley': tensor(0.2245),\n",
              " 'dudleys': tensor(0.0499),\n",
              " 'dumbledore': tensor(0.0470),\n",
              " 'dumbledores': tensor(0.0824),\n",
              " 'dungeons': tensor(0.1007),\n",
              " 'dunno': tensor(0.0543),\n",
              " 'during': tensor(0.0835),\n",
              " 'dursley': tensor(0.1434),\n",
              " 'dursleys': tensor(-0.0675),\n",
              " 'each': tensor(-0.0253),\n",
              " 'eagerly': tensor(0.0855),\n",
              " 'ear': tensor(-0.1070),\n",
              " 'ears': tensor(0.0143),\n",
              " 'earth': tensor(-0.0771),\n",
              " 'easily': tensor(0.0354),\n",
              " 'easy': tensor(-0.0434),\n",
              " 'eat': tensor(0.0350),\n",
              " 'eating': tensor(0.0493),\n",
              " 'edge': tensor(-0.2163),\n",
              " 'egg': tensor(0.0781),\n",
              " 'eh': tensor(-0.0362),\n",
              " 'either': tensor(0.0955),\n",
              " 'eleven': tensor(-0.0928),\n",
              " 'else': tensor(-0.1537),\n",
              " 'em': tensor(-0.0704),\n",
              " 'empty': tensor(0.0417),\n",
              " 'end': tensor(-0.1702),\n",
              " 'enough': tensor(0.0386),\n",
              " 'entered': tensor(0.0522),\n",
              " 'entrance': tensor(-0.0979),\n",
              " 'envelope': tensor(0.0237),\n",
              " 'er': tensor(0.0213),\n",
              " 'erised': tensor(0.1872),\n",
              " 'even': tensor(-0.0021),\n",
              " 'evening': tensor(-0.0418),\n",
              " 'ever': tensor(0.0050),\n",
              " 'every': tensor(-0.0342),\n",
              " 'everybody': tensor(0.0259),\n",
              " 'everyone': tensor(-0.0139),\n",
              " 'everything': tensor(-0.0312),\n",
              " 'everywhere': tensor(0.1468),\n",
              " 'evil': tensor(-0.0621),\n",
              " 'exactly': tensor(0.0160),\n",
              " 'exam': tensor(-0.0427),\n",
              " 'exams': tensor(0.0098),\n",
              " 'excellent': tensor(-0.0803),\n",
              " 'except': tensor(-0.2249),\n",
              " 'excitedly': tensor(-0.1042),\n",
              " 'excuse': tensor(-0.0686),\n",
              " 'expect': tensor(0.1046),\n",
              " 'expected': tensor(0.1535),\n",
              " 'expelled': tensor(0.0230),\n",
              " 'explain': tensor(0.1404),\n",
              " 'extra': tensor(0.0975),\n",
              " 'eye': tensor(0.0749),\n",
              " 'eyes': tensor(-0.0945),\n",
              " 'face': tensor(0.0389),\n",
              " 'faces': tensor(0.0262),\n",
              " 'facing': tensor(0.1095),\n",
              " 'fact': tensor(-0.0427),\n",
              " 'faded': tensor(-0.0813),\n",
              " 'fall': tensor(-0.1344),\n",
              " 'fallen': tensor(0.0054),\n",
              " 'families': tensor(0.0884),\n",
              " 'family': tensor(0.0169),\n",
              " 'famous': tensor(-0.0880),\n",
              " 'fang': tensor(0.0194),\n",
              " 'fangs': tensor(0.0128),\n",
              " 'far': tensor(-0.1340),\n",
              " 'fast': tensor(0.0514),\n",
              " 'fat': tensor(0.0227),\n",
              " 'father': tensor(-0.0120),\n",
              " 'fathers': tensor(0.0416),\n",
              " 'favorite': tensor(0.0561),\n",
              " 'fear': tensor(0.0524),\n",
              " 'feast': tensor(-0.1963),\n",
              " 'feather': tensor(0.0963),\n",
              " 'feel': tensor(0.1078),\n",
              " 'feeling': tensor(0.0262),\n",
              " 'feet': tensor(0.0208),\n",
              " 'fell': tensor(-0.0061),\n",
              " 'felt': tensor(0.0635),\n",
              " 'fer': tensor(0.0816),\n",
              " 'few': tensor(-0.1301),\n",
              " 'field': tensor(0.1690),\n",
              " 'fifty': tensor(0.0231),\n",
              " 'fight': tensor(-0.2680),\n",
              " 'fighting': tensor(0.1304),\n",
              " 'figure': tensor(0.3039),\n",
              " 'filch': tensor(-0.1213),\n",
              " 'filled': tensor(0.1119),\n",
              " 'finally': tensor(-0.0959),\n",
              " 'find': tensor(-0.0176),\n",
              " 'finding': tensor(-0.1261),\n",
              " 'fine': tensor(0.0862),\n",
              " 'fingers': tensor(0.0842),\n",
              " 'finished': tensor(-0.0618),\n",
              " 'finnigan': tensor(-0.0287),\n",
              " 'fire': tensor(-0.0316),\n",
              " 'firenze': tensor(-0.1211),\n",
              " 'firs': tensor(0.0704),\n",
              " 'first': tensor(0.0573),\n",
              " 'five': tensor(-0.2833),\n",
              " 'fixed': tensor(0.2042),\n",
              " 'flamel': tensor(0.0044),\n",
              " 'flames': tensor(-0.0051),\n",
              " 'flash': tensor(-0.0922),\n",
              " 'flat': tensor(0.1087),\n",
              " 'flavor': tensor(0.1653),\n",
              " 'flew': tensor(-0.1189),\n",
              " 'flint': tensor(0.0960),\n",
              " 'flitwick': tensor(-0.0078),\n",
              " 'floating': tensor(0.0290),\n",
              " 'floor': tensor(0.0705),\n",
              " 'fluffy': tensor(0.0190),\n",
              " 'flute': tensor(-0.0784),\n",
              " 'fly': tensor(-0.1360),\n",
              " 'flying': tensor(-0.0939),\n",
              " 'follow': tensor(0.1258),\n",
              " 'followed': tensor(0.0416),\n",
              " 'following': tensor(-0.0827),\n",
              " 'food': tensor(0.0986),\n",
              " 'foot': tensor(0.0967),\n",
              " 'footsteps': tensor(0.0682),\n",
              " 'for': tensor(-0.0295),\n",
              " 'forbidden': tensor(0.1019),\n",
              " 'force': tensor(0.0100),\n",
              " 'forehead': tensor(0.0588),\n",
              " 'forest': tensor(0.1033),\n",
              " 'forget': tensor(0.0717),\n",
              " 'forgotten': tensor(-0.0080),\n",
              " 'forward': tensor(0.0801),\n",
              " 'found': tensor(0.0931),\n",
              " 'four': tensor(0.0959),\n",
              " 'fred': tensor(-0.1230),\n",
              " 'free': tensor(-0.0510),\n",
              " 'friend': tensor(-0.0239),\n",
              " 'friends': tensor(0.1311),\n",
              " 'frog': tensor(-0.0386),\n",
              " 'frogs': tensor(-0.0981),\n",
              " 'from': tensor(-0.0947),\n",
              " 'front': tensor(0.1594),\n",
              " 'full': tensor(-0.0367),\n",
              " 'fun': tensor(0.0025),\n",
              " 'funny': tensor(0.1337),\n",
              " 'furious': tensor(-0.0411),\n",
              " 'furiously': tensor(-0.0718),\n",
              " 'game': tensor(0.0214),\n",
              " 'garden': tensor(0.0701),\n",
              " 'gasped': tensor(-0.0092),\n",
              " 'gave': tensor(0.0372),\n",
              " 'gently': tensor(0.0688),\n",
              " 'george': tensor(0.1625),\n",
              " 'get': tensor(0.0636),\n",
              " 'gets': tensor(0.0274),\n",
              " 'gettin': tensor(-0.0596),\n",
              " 'getting': tensor(0.0377),\n",
              " 'ghost': tensor(-0.0563),\n",
              " 'ghosts': tensor(0.1045),\n",
              " 'giant': tensor(0.0338),\n",
              " 'girl': tensor(0.0115),\n",
              " 'girls': tensor(0.1494),\n",
              " 'give': tensor(-0.0073),\n",
              " 'given': tensor(0.0845),\n",
              " 'giving': tensor(0.1244),\n",
              " 'glad': tensor(0.0555),\n",
              " 'glass': tensor(0.0876),\n",
              " 'glasses': tensor(0.2367),\n",
              " 'go': tensor(0.0367),\n",
              " 'goal': tensor(-0.1392),\n",
              " 'goblin': tensor(-0.0465),\n",
              " 'goblins': tensor(0.1083),\n",
              " 'goes': tensor(-0.1309),\n",
              " 'going': tensor(0.1166),\n",
              " 'gold': tensor(-0.2471),\n",
              " 'golden': tensor(0.1856),\n",
              " 'gone': tensor(0.1054),\n",
              " 'good': tensor(-0.1359),\n",
              " 'goodbye': tensor(0.0039),\n",
              " 'got': tensor(-0.0898),\n",
              " 'gotta': tensor(-0.0431),\n",
              " 'gotten': tensor(0.1544),\n",
              " 'goyle': tensor(-0.1371),\n",
              " 'grab': tensor(-0.0925),\n",
              " 'grabbed': tensor(-0.0183),\n",
              " 'granger': tensor(-0.0479),\n",
              " 'grass': tensor(-0.0702),\n",
              " 'gray': tensor(0.0183),\n",
              " 'great': tensor(    -0.0000),\n",
              " 'green': tensor(-0.1672),\n",
              " 'grin': tensor(-0.0895),\n",
              " 'gringotts': tensor(0.0047),\n",
              " 'griphook': tensor(-0.0891),\n",
              " 'ground': tensor(0.2022),\n",
              " 'grounds': tensor(0.0183),\n",
              " 'growled': tensor(0.0116),\n",
              " 'grunted': tensor(-0.1608),\n",
              " 'gryffindor': tensor(-0.1762),\n",
              " 'gryffindors': tensor(-0.0798),\n",
              " 'guard': tensor(0.0301),\n",
              " 'guarding': tensor(0.0240),\n",
              " 'h': tensor(-0.0896),\n",
              " 'had': tensor(0.0187),\n",
              " 'hadnt': tensor(0.2948),\n",
              " 'hagrid': tensor(0.1042),\n",
              " 'hagrids': tensor(-0.1161),\n",
              " 'hair': tensor(-0.2216),\n",
              " 'half': tensor(0.0014),\n",
              " 'halfway': tensor(-0.0516),\n",
              " 'hall': tensor(-0.0674),\n",
              " 'halloween': tensor(0.0626),\n",
              " 'hand': tensor(0.0928),\n",
              " 'handed': tensor(-0.0872),\n",
              " 'handle': tensor(-0.0439),\n",
              " 'hands': tensor(0.0746),\n",
              " 'hang': tensor(-0.0654),\n",
              " 'hanging': tensor(0.1133),\n",
              " 'happen': tensor(0.0053),\n",
              " 'happened': tensor(0.1753),\n",
              " 'happy': tensor(-0.1233),\n",
              " 'hard': tensor(-0.0423),\n",
              " 'harder': tensor(0.0415),\n",
              " 'hardly': tensor(0.1257),\n",
              " 'harry': tensor(1.0271),\n",
              " 'harrys': tensor(0.0433),\n",
              " 'has': tensor(0.0988),\n",
              " 'hasnt': tensor(0.1135),\n",
              " 'hat': tensor(-0.0717),\n",
              " 'hate': tensor(0.0083),\n",
              " 'hated': tensor(0.0642),\n",
              " 'have': tensor(0.0716),\n",
              " 'havent': tensor(0.0082),\n",
              " 'having': tensor(-0.1179),\n",
              " 'he': tensor(-0.0109),\n",
              " 'head': tensor(-0.0766),\n",
              " 'headless': tensor(0.0373),\n",
              " 'heads': tensor(0.1713),\n",
              " 'hear': tensor(0.0250),\n",
              " 'heard': tensor(0.0897),\n",
              " 'heart': tensor(0.0046),\n",
              " 'heavy': tensor(-0.0508),\n",
              " 'hed': tensor(-0.1219),\n",
              " 'hedwig': tensor(0.0207),\n",
              " 'held': tensor(0.0029),\n",
              " 'hell': tensor(0.1263),\n",
              " 'help': tensor(0.1003),\n",
              " 'her': tensor(-0.0536),\n",
              " 'here': tensor(-0.1929),\n",
              " 'hermione': tensor(0.0150),\n",
              " 'hermiones': tensor(-0.0375),\n",
              " 'herself': tensor(-0.0932),\n",
              " 'hes': tensor(0.1475),\n",
              " 'hidden': tensor(0.0158),\n",
              " 'hide': tensor(-0.1339),\n",
              " 'hiding': tensor(-0.0224),\n",
              " 'high': tensor(0.0933),\n",
              " 'higher': tensor(-0.1841),\n",
              " 'him': tensor(-0.0500),\n",
              " 'himself': tensor(0.0168),\n",
              " 'his': tensor(0.1475),\n",
              " 'hissed': tensor(-0.1162),\n",
              " 'history': tensor(-0.0692),\n",
              " 'hit': tensor(0.0929),\n",
              " 'hogwarts': tensor(0.0531),\n",
              " 'hold': tensor(-0.0251),\n",
              " 'holding': tensor(0.0511),\n",
              " 'hole': tensor(-0.2255),\n",
              " 'holidays': tensor(-0.0827),\n",
              " 'home': tensor(-0.0589),\n",
              " 'homework': tensor(0.0784),\n",
              " 'honestly': tensor(0.0656),\n",
              " 'hooch': tensor(0.0099),\n",
              " 'hoops': tensor(0.0257),\n",
              " 'hope': tensor(-0.0734),\n",
              " 'hoping': tensor(0.0912),\n",
              " 'horrible': tensor(-0.0311),\n",
              " 'horror': tensor(0.0303),\n",
              " 'hospital': tensor(-0.0026),\n",
              " 'hot': tensor(0.0234),\n",
              " 'hour': tensor(0.0503),\n",
              " 'hours': tensor(0.0877),\n",
              " 'house': tensor(0.0425),\n",
              " 'houses': tensor(-0.0979),\n",
              " 'how': tensor(-0.0659),\n",
              " 'however': tensor(-0.1111),\n",
              " 'howling': tensor(-0.0045),\n",
              " 'hufflepuff': tensor(0.0735),\n",
              " 'huge': tensor(0.0808),\n",
              " 'human': tensor(-0.0828),\n",
              " 'hundred': tensor(-0.1385),\n",
              " 'hundreds': tensor(-0.0226),\n",
              " 'hung': tensor(0.0380),\n",
              " 'hungry': tensor(0.1046),\n",
              " 'hurried': tensor(0.1155),\n",
              " 'hurry': tensor(-0.1014),\n",
              " 'hurrying': tensor(-0.0918),\n",
              " 'hurt': tensor(-0.0622),\n",
              " 'hut': tensor(-0.0053),\n",
              " 'i': tensor(0.1134),\n",
              " 'ice': tensor(0.0160),\n",
              " 'id': tensor(0.0514),\n",
              " 'idea': tensor(0.0545),\n",
              " 'if': tensor(0.1400),\n",
              " 'ignored': tensor(0.0268),\n",
              " 'ill': tensor(-0.0428),\n",
              " 'im': tensor(0.0412),\n",
              " 'imagine': tensor(0.2158),\n",
              " 'important': tensor(-0.1229),\n",
              " 'in': tensor(-0.0592),\n",
              " 'inches': tensor(0.0186),\n",
              " 'indeed': tensor(0.0664),\n",
              " 'inside': tensor(-0.0982),\n",
              " 'instead': tensor(0.2740),\n",
              " 'interested': tensor(0.2226),\n",
              " 'interesting': tensor(0.0093),\n",
              " 'into': tensor(0.1562),\n",
              " 'invisibility': tensor(0.0006),\n",
              " 'invisible': tensor(-0.1263),\n",
              " 'is': tensor(0.0526),\n",
              " 'isnt': tensor(0.1666),\n",
              " 'it': tensor(-0.0148),\n",
              " 'itll': tensor(0.0015),\n",
              " 'its': tensor(0.0767),\n",
              " 'itself': tensor(-0.1178),\n",
              " 'ive': tensor(-0.1920),\n",
              " 'jerked': tensor(0.0587),\n",
              " 'job': tensor(-0.0254),\n",
              " 'join': tensor(-0.0232),\n",
              " 'joined': tensor(-0.1606),\n",
              " 'joke': tensor(-0.1830),\n",
              " 'jordan': tensor(-0.0224),\n",
              " 'jump': tensor(0.1161),\n",
              " 'jumped': tensor(-0.1556),\n",
              " 'jus': tensor(0.0835),\n",
              " 'just': tensor(0.0327),\n",
              " 'keep': tensor(-0.2621),\n",
              " 'keeper': tensor(0.0254),\n",
              " 'keeping': tensor(0.0910),\n",
              " 'kept': tensor(0.0920),\n",
              " 'key': tensor(0.1209),\n",
              " 'keys': tensor(0.0944),\n",
              " 'kicked': tensor(0.0392),\n",
              " 'kill': tensor(-0.0310),\n",
              " 'killed': tensor(-0.2000),\n",
              " 'kind': tensor(-0.1049),\n",
              " 'kings': tensor(0.0335),\n",
              " 'kitchen': tensor(0.0109),\n",
              " 'knees': tensor(0.0942),\n",
              " 'knew': tensor(0.0382),\n",
              " 'knight': tensor(0.1393),\n",
              " 'knock': tensor(0.0275),\n",
              " 'knocked': tensor(-0.1705),\n",
              " 'knocking': tensor(-0.0969),\n",
              " 'know': tensor(-0.0753),\n",
              " 'knowing': tensor(-0.0393),\n",
              " 'known': tensor(-0.1616),\n",
              " 'knows': tensor(-0.0597),\n",
              " 'knuts': tensor(0.0783),\n",
              " 'lady': tensor(-0.1259),\n",
              " 'lake': tensor(0.0384),\n",
              " 'lamp': tensor(-0.0903),\n",
              " 'landed': tensor(-0.1004),\n",
              " 'large': tensor(-0.0306),\n",
              " 'last': tensor(0.0691),\n",
              " 'late': tensor(0.1041),\n",
              " 'later': tensor(0.0634),\n",
              " 'laugh': tensor(-0.0057),\n",
              " 'laughed': tensor(0.0983),\n",
              " 'laughing': tensor(-0.2123),\n",
              " 'laughter': tensor(0.0935),\n",
              " 'lay': tensor(0.0227),\n",
              " 'lead': tensor(-0.0168),\n",
              " 'leading': tensor(-0.0634),\n",
              " 'leaky': tensor(0.0578),\n",
              " 'leaned': tensor(-0.0246),\n",
              " 'leapt': tensor(0.0066),\n",
              " 'learn': tensor(-0.0357),\n",
              " 'learned': tensor(0.0550),\n",
              " 'least': tensor(0.1687),\n",
              " 'leave': tensor(0.0117),\n",
              " 'leaves': tensor(0.0629),\n",
              " 'leaving': tensor(-0.1877),\n",
              " 'led': tensor(0.0894),\n",
              " 'lee': tensor(-0.0771),\n",
              " 'left': tensor(-0.1848),\n",
              " 'leg': tensor(0.0350),\n",
              " 'legs': tensor(-0.0026),\n",
              " 'lemon': tensor(0.0313),\n",
              " 'less': tensor(-0.0084),\n",
              " 'lesson': tensor(0.0467),\n",
              " 'lessons': tensor(-0.0702),\n",
              " 'let': tensor(0.0105),\n",
              " 'lets': tensor(0.0641),\n",
              " 'letter': tensor(0.1066),\n",
              " 'letters': tensor(-0.1334),\n",
              " 'library': tensor(0.0912),\n",
              " 'lie': tensor(0.0068),\n",
              " 'life': tensor(0.0455),\n",
              " 'light': tensor(0.1223),\n",
              " 'lightning': tensor(0.1257),\n",
              " 'like': tensor(0.1503),\n",
              " 'liked': tensor(0.0256),\n",
              " 'lily': tensor(0.0660),\n",
              " 'line': tensor(-0.0396),\n",
              " 'lips': tensor(0.0802),\n",
              " 'list': tensor(-0.0171),\n",
              " 'listen': tensor(0.0468),\n",
              " 'listening': tensor(0.0029),\n",
              " 'lit': tensor(-0.0721),\n",
              " 'little': tensor(-0.0467),\n",
              " 'live': tensor(0.0647),\n",
              " 'lived': tensor(0.0170),\n",
              " 'living': tensor(-0.1527),\n",
              " 'loads': tensor(0.0800),\n",
              " 'lock': tensor(-0.0612),\n",
              " 'locked': tensor(-0.0092),\n",
              " 'london': tensor(-0.0301),\n",
              " 'long': tensor(0.1557),\n",
              " 'longbottom': tensor(-0.0222),\n",
              " 'look': tensor(-0.1729),\n",
              " 'looked': tensor(-0.0036),\n",
              " 'looking': tensor(0.0442),\n",
              " 'looks': tensor(0.1738),\n",
              " 'lose': tensor(-0.1450),\n",
              " 'losing': tensor(-0.2169),\n",
              " 'lost': tensor(-0.1185),\n",
              " 'lot': tensor(0.0417),\n",
              " 'lots': tensor(-0.1834),\n",
              " 'loud': tensor(-0.1147),\n",
              " 'loudly': tensor(-0.0220),\n",
              " 'low': tensor(0.0975),\n",
              " 'luck': tensor(0.1589),\n",
              " 'lucky': tensor(-0.1849),\n",
              " 'lumpy': tensor(-0.0468),\n",
              " 'lurking': tensor(-0.1107),\n",
              " 'lying': tensor(0.0704),\n",
              " 'mad': tensor(0.0021),\n",
              " 'madam': tensor(-0.0708),\n",
              " 'made': tensor(0.0903),\n",
              " 'magic': tensor(-0.1652),\n",
              " 'magical': tensor(0.1349),\n",
              " 'mail': tensor(-0.1640),\n",
              " 'make': tensor(0.0885),\n",
              " 'making': tensor(0.0590),\n",
              " 'malfoy': tensor(0.1016),\n",
              " 'malfoys': tensor(0.1243),\n",
              " 'man': tensor(-0.1263),\n",
              " 'managed': tensor(0.0453),\n",
              " 'many': tensor(-0.1214),\n",
              " 'marble': tensor(0.0252),\n",
              " 'marched': tensor(0.0227),\n",
              " 'match': tensor(0.0390),\n",
              " 'matter': tensor(-0.0738),\n",
              " 'may': tensor(0.1615),\n",
              " 'maybe': tensor(0.0662),\n",
              " 'mcgonagall': tensor(-0.0445),\n",
              " 'mcgonagalls': tensor(0.0442),\n",
              " 'me': tensor(0.0371),\n",
              " 'mean': tensor(0.0882),\n",
              " 'means': tensor(-0.1381),\n",
              " 'meant': tensor(0.0526),\n",
              " 'meet': tensor(-0.0447),\n",
              " 'mention': tensor(-0.1724),\n",
              " 'met': tensor(0.0639),\n",
              " 'midair': tensor(0.1392),\n",
              " 'middle': tensor(-0.0647),\n",
              " 'midnight': tensor(-0.0676),\n",
              " 'might': tensor(-0.0836),\n",
              " 'mind': tensor(0.1310),\n",
              " 'ministry': tensor(-0.1027),\n",
              " 'minute': tensor(-0.0371),\n",
              " 'minutes': tensor(-0.1425),\n",
              " 'mirror': tensor(-0.0023),\n",
              " 'miss': tensor(0.1148),\n",
              " 'mistake': tensor(-0.0433),\n",
              " 'moaned': tensor(-0.1416),\n",
              " 'mom': tensor(0.0561),\n",
              " 'moment': tensor(0.0858),\n",
              " 'money': tensor(-0.0269),\n",
              " 'moonlight': tensor(0.0467),\n",
              " 'more': tensor(-0.0243),\n",
              " 'morning': tensor(0.1029),\n",
              " 'most': tensor(0.1553),\n",
              " 'mother': tensor(-0.1278),\n",
              " 'mothers': tensor(-0.0825),\n",
              " 'motorcycle': tensor(-0.0478),\n",
              " 'mountain': tensor(0.0208),\n",
              " 'mouth': tensor(0.1148),\n",
              " 'move': tensor(-0.2550),\n",
              " 'moved': tensor(-0.1177),\n",
              " 'moving': tensor(-0.0258),\n",
              " 'mr': tensor(0.0349),\n",
              " 'mrs': tensor(-0.0728),\n",
              " 'much': tensor(0.0082),\n",
              " 'muggle': tensor(-0.1375),\n",
              " 'muggles': tensor(0.1177),\n",
              " 'murmured': tensor(0.0044),\n",
              " 'must': tensor(-0.0895),\n",
              " 'mustache': tensor(-0.0724),\n",
              " 'mustve': tensor(-0.1383),\n",
              " 'muttered': tensor(0.0555),\n",
              " 'muttering': tensor(0.0703),\n",
              " 'my': tensor(-0.0551),\n",
              " 'myself': tensor(0.0704),\n",
              " 'mysterious': tensor(0.0912),\n",
              " 'nah': tensor(-0.0988),\n",
              " 'name': tensor(0.1459),\n",
              " 'names': tensor(0.1072),\n",
              " 'narrow': tensor(0.0436),\n",
              " 'nasty': tensor(-0.0712),\n",
              " 'near': tensor(0.0209),\n",
              " 'nearer': tensor(-0.0528),\n",
              " 'nearest': tensor(0.0107),\n",
              " 'nearly': tensor(-0.1015),\n",
              " 'neck': tensor(0.0434),\n",
              " 'need': tensor(0.0955),\n",
              " 'needed': tensor(-0.0275),\n",
              " 'needs': tensor(-0.0455),\n",
              " 'neither': tensor(-0.1461),\n",
              " 'nervous': tensor(-0.0678),\n",
              " 'nervously': tensor(-0.0217),\n",
              " 'never': tensor(-0.1327),\n",
              " 'neville': tensor(-0.0721),\n",
              " 'nevilles': tensor(-0.0252),\n",
              " 'new': tensor(0.0225),\n",
              " 'news': tensor(0.1275),\n",
              " 'newspaper': tensor(-0.2354),\n",
              " 'next': tensor(0.0735),\n",
              " 'nice': tensor(-0.0190),\n",
              " 'nicolas': tensor(0.1142),\n",
              " 'night': tensor(-0.0110),\n",
              " 'nimbus': tensor(-0.0083),\n",
              " 'nine': tensor(-0.1611),\n",
              " 'no': tensor(0.1118),\n",
              " 'nobody': tensor(0.0104),\n",
              " 'nodded': tensor(0.2057),\n",
              " 'noise': tensor(0.0387),\n",
              " 'none': tensor(-0.1222),\n",
              " 'nor': tensor(-0.2840),\n",
              " 'norbert': tensor(0.0379),\n",
              " 'normal': tensor(-0.0739),\n",
              " 'norris': tensor(-0.0491),\n",
              " 'nose': tensor(-0.1269),\n",
              " 'noses': tensor(-0.1296),\n",
              " 'nostrils': tensor(0.0856),\n",
              " 'not': tensor(-0.0621),\n",
              " 'note': tensor(-0.1148),\n",
              " 'notes': tensor(-0.0739),\n",
              " 'nothin': tensor(0.0872),\n",
              " 'nothing': tensor(0.2392),\n",
              " 'notice': tensor(-0.1862),\n",
              " 'noticed': tensor(0.0955),\n",
              " 'noticing': tensor(0.0039),\n",
              " 'now': tensor(0.0196),\n",
              " 'number': tensor(-0.0326),\n",
              " 'o': tensor(0.0034),\n",
              " 'obviously': tensor(0.0769),\n",
              " 'oclock': tensor(-0.0070),\n",
              " 'odd': tensor(-0.0829),\n",
              " 'of': tensor(-0.0421),\n",
              " 'off': tensor(0.0154),\n",
              " 'often': tensor(0.1335),\n",
              " 'oh': tensor(0.0543),\n",
              " 'old': tensor(0.0995),\n",
              " 'older': tensor(0.0272),\n",
              " 'ollivander': tensor(0.2465),\n",
              " 'on': tensor(0.0153),\n",
              " 'once': tensor(-0.1178),\n",
              " 'one': tensor(0.1442),\n",
              " 'ones': tensor(-0.1952),\n",
              " 'only': tensor(0.0470),\n",
              " 'onto': tensor(0.1315),\n",
              " 'open': tensor(0.0416),\n",
              " 'opened': tensor(-0.1318),\n",
              " 'opposite': tensor(-0.0523),\n",
              " 'or': tensor(0.0322),\n",
              " 'ordinary': tensor(-0.0694),\n",
              " 'other': tensor(0.1845),\n",
              " 'others': tensor(-0.0686),\n",
              " 'our': tensor(-0.1424),\n",
              " 'out': tensor(0.1106),\n",
              " 'outside': tensor(-0.0814),\n",
              " 'outta': tensor(-0.1189),\n",
              " 'over': tensor(0.0697),\n",
              " 'overhead': tensor(-0.0040),\n",
              " 'owl': tensor(0.0146),\n",
              " 'owls': tensor(0.0045),\n",
              " 'own': tensor(0.0259),\n",
              " 'pack': tensor(-0.0025),\n",
              " 'package': tensor(0.0010),\n",
              " 'packed': tensor(0.1307),\n",
              " 'pain': tensor(0.1256),\n",
              " 'pair': tensor(0.0800),\n",
              " 'pale': tensor(0.0788),\n",
              " 'panted': tensor(0.0769),\n",
              " 'paper': tensor(0.1209),\n",
              " 'parcel': tensor(-0.1056),\n",
              " 'parchment': tensor(0.0457),\n",
              " 'parents': tensor(0.0630),\n",
              " 'particularly': tensor(-0.0300),\n",
              " 'passageway': tensor(-0.0585),\n",
              " 'passed': tensor(-0.0093),\n",
              " 'passing': tensor(0.1992),\n",
              " 'past': tensor(-0.0335),\n",
              " 'path': tensor(-0.0058),\n",
              " 'patil': tensor(-0.0570),\n",
              " 'peered': tensor(-0.0767),\n",
              " 'peering': tensor(0.1292),\n",
              " 'peeves': tensor(-0.0356),\n",
              " 'people': tensor(-0.0325),\n",
              " 'percy': tensor(-0.0570),\n",
              " 'perfect': tensor(-0.0663),\n",
              " 'perhaps': tensor(-0.0119),\n",
              " 'person': tensor(0.1976),\n",
              " 'petunia': tensor(-0.0006),\n",
              " 'picked': tensor(0.0749),\n",
              " 'piece': tensor(-0.0839),\n",
              " 'pieces': tensor(0.0141),\n",
              " 'piers': tensor(0.2115),\n",
              " 'pig': tensor(-0.0575),\n",
              " 'pile': tensor(0.1462),\n",
              " 'piled': tensor(0.0316),\n",
              " 'pink': tensor(-0.1420),\n",
              " 'pinned': tensor(-0.0066),\n",
              " 'place': tensor(-0.0360),\n",
              " 'planets': tensor(-0.0137),\n",
              " 'plant': tensor(-0.1327),\n",
              " 'plates': tensor(-0.0405),\n",
              " 'platform': tensor(0.0640),\n",
              " 'platforms': tensor(-0.0350),\n",
              " 'play': tensor(-0.1348),\n",
              " 'players': tensor(0.1492),\n",
              " 'playing': tensor(0.0645),\n",
              " 'please': tensor(-0.0067),\n",
              " 'pleased': tensor(-0.0661),\n",
              " 'pocket': tensor(-0.0313),\n",
              " 'pockets': tensor(-0.0201),\n",
              " 'point': tensor(-0.1003),\n",
              " 'pointed': tensor(-0.0753),\n",
              " 'pointing': tensor(0.0375),\n",
              " 'points': tensor(-0.1498),\n",
              " 'pomfrey': tensor(0.0765),\n",
              " 'poor': tensor(0.0394),\n",
              " 'portrait': tensor(0.0181),\n",
              " 'possession': tensor(0.1969),\n",
              " 'possible': tensor(-0.1381),\n",
              " 'posts': tensor(-0.2568),\n",
              " 'potion': tensor(-0.2255),\n",
              " 'potions': tensor(0.0738),\n",
              " 'potter': tensor(0.1538),\n",
              " 'potters': tensor(-0.2740),\n",
              " 'power': tensor(-0.0389),\n",
              " 'powerful': tensor(0.1221),\n",
              " 'practice': tensor(-0.0315),\n",
              " 'prefect': tensor(0.0170),\n",
              " 'prefects': tensor(0.0047),\n",
              " 'presents': tensor(-0.1522),\n",
              " 'pressed': tensor(0.1518),\n",
              " 'privet': tensor(-0.0235),\n",
              " 'probably': tensor(-0.1377),\n",
              " 'professor': tensor(-0.1329),\n",
              " 'properly': tensor(-0.0571),\n",
              " 'proud': tensor(0.0394),\n",
              " 'pull': tensor(-0.0612),\n",
              " 'pulled': tensor(0.0494),\n",
              " 'pulling': tensor(-0.1244),\n",
              " 'purple': tensor(-0.1227),\n",
              " 'pushed': tensor(-0.0025),\n",
              " 'put': tensor(-0.0909),\n",
              " 'quaffle': tensor(-0.1343),\n",
              " 'question': tensor(-0.0343),\n",
              " 'questions': tensor(0.0880),\n",
              " 'quick': tensor(-0.0558),\n",
              " 'quickly': tensor(0.0748),\n",
              " 'quidditch': tensor(0.0423),\n",
              " 'quiet': tensor(-0.0075),\n",
              " 'quietly': tensor(-0.2392),\n",
              " 'quills': tensor(0.1353),\n",
              " 'quirrell': tensor(-0.1420),\n",
              " 'quirrells': tensor(-0.1058),\n",
              " 'quite': tensor(-0.0068),\n",
              " 'racing': tensor(-0.1483),\n",
              " 'raised': tensor(-0.1369),\n",
              " 'ran': tensor(0.0663),\n",
              " 'rang': tensor(0.0047),\n",
              " 'rat': tensor(0.0170),\n",
              " 'rather': tensor(-0.1874),\n",
              " 'ravenclaw': tensor(0.0895),\n",
              " 'reached': tensor(0.1668),\n",
              " 'read': tensor(-0.0114),\n",
              " 'ready': tensor(-0.1302),\n",
              " 'real': tensor(-0.0665),\n",
              " 'realize': tensor(-0.0409),\n",
              " 'realized': tensor(-0.2436),\n",
              " 'really': tensor(0.1833),\n",
              " 'reason': tensor(-0.1720),\n",
              " ...}"
            ]
          },
          "metadata": {},
          "execution_count": 34
        }
      ],
      "source": [
        "# we can get the dot product value for every other words in the vocab\n",
        "# to get  P(word | harry)\n",
        "word_dot_dict = {}\n",
        "for word in filtered_vocab:\n",
        "    w_idx = word2idx[word]\n",
        "    w_vector = word_vectors[w_idx]\n",
        "    word_dot_dict[word] = torch.dot(w_vector, harry)\n",
        "\n",
        "word_dot_dict"
      ]
    },
    {
      "cell_type": "markdown",
      "metadata": {
        "id": "EXrRV6xoyhDY"
      },
      "source": [
        "Now, let's convert these dot products to probabilities using the softmax function:\n",
        "- We have to convert our prediction into probability distribution to get P(word|harry) so that sum of [P(a|harry), ..., P(potter|harry), ... P(ron|harry), ... ] = 1\n",
        "- current dot product value is any real number, sometimes called as logit\n",
        "  - logit from logistic regression. Some values that are not yet converted to 0-1 or value before sigmoid function\n",
        "  - every probability should be in range (0, 1) (greater than 0, smaller than 1)\n",
        "  - this can be handled by taking exponential of dot product values, divided by total sum\n",
        "  - This function is called **Softmax**\n",
        "\n",
        "- Why we use exponential?\n",
        "  - Because we want to make every probability in positive range while preserving the order\n"
      ]
    },
    {
      "cell_type": "code",
      "execution_count": null,
      "metadata": {
        "id": "DQ1PUvuLyv6r"
      },
      "outputs": [],
      "source": [
        "from math import exp\n",
        "\n",
        "word_exp_dict = {}\n",
        "for word, dot_value in word_dot_dict.items():\n",
        "    exp_value = None\n",
        "\n",
        "word_prob_dict = None"
      ]
    },
    {
      "cell_type": "code",
      "execution_count": null,
      "metadata": {
        "id": "SpXH7RxSbwUO"
      },
      "outputs": [],
      "source": [
        "# Get P(potter|harry)"
      ]
    },
    {
      "cell_type": "markdown",
      "metadata": {
        "id": "kKxz9SJhSuhy"
      },
      "source": [
        "## 13. Efficient Matrix Operations\n",
        "![img](https://mkang32.github.io/images/python/khan_academy_matrix_product.png)\n",
        "\n",
        "Instead of calculating dot products one by one, we can use matrix multiplication for efficiency:\n"
      ]
    },
    {
      "cell_type": "code",
      "execution_count": null,
      "metadata": {
        "id": "HCFajiDkb44W"
      },
      "outputs": [],
      "source": [
        "# get dot product result for every word in the vocabulary\n",
        "\n",
        "# first, make vector_of_harry into matrix format\n",
        "\n",
        "# do matrix multiplication\n"
      ]
    },
    {
      "cell_type": "markdown",
      "metadata": {
        "id": "KrOLs6kgyhDY"
      },
      "source": [
        "Let's verify that our matrix multiplication gives the same result as individual dot products:"
      ]
    },
    {
      "cell_type": "code",
      "execution_count": null,
      "metadata": {
        "id": "jf643k38yhDY"
      },
      "outputs": [],
      "source": []
    },
    {
      "cell_type": "markdown",
      "metadata": {
        "id": "Q7DIzDCpyhDY"
      },
      "source": [
        "Now let's implement the complete softmax calculation using matrix operations:\n"
      ]
    },
    {
      "cell_type": "code",
      "execution_count": null,
      "metadata": {
        "id": "5USdps5CfKzq"
      },
      "outputs": [],
      "source": [
        "# convert dot product result into exponential"
      ]
    },
    {
      "cell_type": "code",
      "execution_count": null,
      "metadata": {
        "id": "WNq0gqz0fntB"
      },
      "outputs": [],
      "source": [
        "# get the sum of exponential\n"
      ]
    },
    {
      "cell_type": "code",
      "execution_count": null,
      "metadata": {
        "id": "ruV4_myDgLvG"
      },
      "outputs": [],
      "source": [
        "# divide exponential value with sum"
      ]
    },
    {
      "cell_type": "markdown",
      "metadata": {
        "id": "nRfw7T5nyhDY"
      },
      "source": [
        "## 14. Creating a Probability Function\n",
        "\n",
        "Let's create a function to calculate probabilities efficiently:"
      ]
    },
    {
      "cell_type": "code",
      "execution_count": null,
      "metadata": {
        "id": "EF4gutuEgntj"
      },
      "outputs": [],
      "source": [
        "def get_probs(query_vectors, entire_vectors):\n",
        "  return None\n",
        "\n",
        "# get_probs(mat_of_harry, word_vectors)"
      ]
    },
    {
      "cell_type": "markdown",
      "metadata": {
        "id": "IOo5uSXbyhDY"
      },
      "source": [
        "## 15. Preparing for Training\n",
        "\n",
        "Before training our Word2Vec model, we need to split our dataset into training and testing sets:"
      ]
    },
    {
      "cell_type": "code",
      "execution_count": null,
      "metadata": {
        "id": "3gjCSY3DoaFg"
      },
      "outputs": [],
      "source": [
        "# Now we can train the word2vec\n",
        "\n",
        "# Let's think about training pairs\n",
        "index_pairs # this is our dataset. It's list of list of two integer\n",
        "# two integer means a pair of neighboring words\n",
        "\n",
        "# Training set and Test set\n",
        "# To validate that our model can solve 'unseen' problems\n",
        "# So we have to split the dataset before training.\n",
        "\n",
        "# To randomly split the dataset, we will first shuffle the dataset\n",
        "\n",
        "# random.shuffle(index_pairs) # this will shuffle the list items"
      ]
    },
    {
      "cell_type": "code",
      "execution_count": null,
      "metadata": {
        "id": "TC0QF3NZp9Rh"
      },
      "outputs": [],
      "source": [
        "len(train_set), len(test_set)"
      ]
    },
    {
      "cell_type": "markdown",
      "metadata": {
        "id": "CKMeat2TyhDZ"
      },
      "source": [
        "## 16. Training the Word2Vec Model\n",
        "\n",
        "Now we'll train our Word2Vec model using batched gradient descent:"
      ]
    },
    {
      "cell_type": "code",
      "execution_count": null,
      "metadata": {
        "id": "JpUM3aiiqG8e"
      },
      "outputs": [],
      "source": [
        "# making batch from train_set\n",
        "# Batch is a set of training samples, that are calculated together\n",
        "# And also we update the model after one single batch"
      ]
    },
    {
      "cell_type": "markdown",
      "metadata": {
        "id": "s2frfncyyhDZ"
      },
      "source": [
        "## 17. Evaluating the Training\n",
        "\n",
        "Let's visualize the training loss to see if our model is learning:"
      ]
    },
    {
      "cell_type": "code",
      "execution_count": null,
      "metadata": {
        "id": "FJHSV8zbyLYu"
      },
      "outputs": [],
      "source": [
        "import matplotlib.pyplot as plt\n",
        "plt.plot(loss_record)"
      ]
    },
    {
      "cell_type": "markdown",
      "metadata": {
        "id": "7tZxnhPdyhDZ"
      },
      "source": [
        "## 18. Testing the Model\n",
        "\n",
        "Now we'll test our model on the test set:"
      ]
    },
    {
      "cell_type": "code",
      "execution_count": null,
      "metadata": {
        "id": "RDP9aR48zdJu"
      },
      "outputs": [],
      "source": []
    },
    {
      "cell_type": "markdown",
      "metadata": {
        "id": "2PPgR_2dyhDZ"
      },
      "source": [
        "## 19. Exploring Learned Word Relationships\n",
        "\n",
        "Let's explore what our model has learned by finding the words most closely related to \"harry\":"
      ]
    },
    {
      "cell_type": "code",
      "execution_count": null,
      "metadata": {
        "id": "0YaCDNq_0hFc"
      },
      "outputs": [],
      "source": [
        "# P(potter|harry)?\n"
      ]
    }
  ],
  "metadata": {
    "colab": {
      "provenance": [],
      "include_colab_link": true
    },
    "kernelspec": {
      "display_name": "Python 3",
      "name": "python3"
    },
    "language_info": {
      "codemirror_mode": {
        "name": "ipython",
        "version": 3
      },
      "file_extension": ".py",
      "mimetype": "text/x-python",
      "name": "python",
      "nbconvert_exporter": "python",
      "pygments_lexer": "ipython3",
      "version": "3.8.10"
    }
  },
  "nbformat": 4,
  "nbformat_minor": 0
}